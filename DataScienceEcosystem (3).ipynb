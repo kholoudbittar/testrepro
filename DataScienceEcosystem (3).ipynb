{
 "cells": [
  {
   "cell_type": "markdown",
   "id": "9de4fd10-b990-450d-b5d9-e314cbd426db",
   "metadata": {},
   "source": [
    "# Data Science Tools and Ecosystem"
   ]
  },
  {
   "cell_type": "markdown",
   "id": "0ac276cb-48a1-4831-b263-203b73ca576a",
   "metadata": {},
   "source": [
    "In this notebook, Data Science Tools and Ecosystem are summarized.\n"
   ]
  },
  {
   "cell_type": "markdown",
   "id": "05ea4f4c-b1e1-4f73-a0ef-c48c2370cca4",
   "metadata": {},
   "source": [
    "# Objectives:\n",
    "In this Notebook below i will be talking about Data Science Languages, Librairies, tools ansd Arithemetic in Python"
   ]
  },
  {
   "cell_type": "markdown",
   "id": "7932f08d-0b0b-46f3-ab25-a8d925d4f973",
   "metadata": {},
   "source": [
    "Some of popular Languages  Data Scientists use are:\n",
    "1. Python\n",
    "2. SQL\n",
    "3. R\n",
    "4. Javascript"
   ]
  },
  {
   "cell_type": "markdown",
   "id": "19faee32-0a25-4173-8edc-01a0573ee005",
   "metadata": {},
   "source": [
    "Some of the commonly used Librairies used by Data Scientists include:\n",
    "1. Matplotib\n",
    "2. Pandas\n",
    "3. Numpy"
   ]
  },
  {
   "cell_type": "markdown",
   "id": "17ce89dc-556a-43b4-98be-6db4d0c32091",
   "metadata": {},
   "source": [
    "Some of the open source tools used Data Science are:\n",
    "\n",
    "Data Science Tools:\n",
    "1. Apache Spark\n",
    "2. Python\n",
    "3. RStudio"
   ]
  },
  {
   "cell_type": "markdown",
   "id": "7ecb45cd-680f-41f5-a2ca-39d59800edd9",
   "metadata": {},
   "source": [
    "### Below are few Examples of evaluating arithmetic expression in Python."
   ]
  },
  {
   "cell_type": "markdown",
   "id": "c350d4a3-b3c1-4df5-97ea-6dc20511bb01",
   "metadata": {},
   "source": [
    "this is a simple arithmetic expression to multiply then add integers"
   ]
  },
  {
   "cell_type": "code",
   "execution_count": 8,
   "id": "28fa8124-5cac-4a46-8f88-f08c794845e7",
   "metadata": {},
   "outputs": [
    {
     "data": {
      "text/plain": [
       "17"
      ]
     },
     "execution_count": 8,
     "metadata": {},
     "output_type": "execute_result"
    }
   ],
   "source": [
    "(3*4)+5"
   ]
  },
  {
   "cell_type": "markdown",
   "id": "b094b168-3c78-404a-b0c9-12b68ce3bac9",
   "metadata": {},
   "source": [
    "This will convert 200 minutes to hours by dividing by 60."
   ]
  },
  {
   "cell_type": "code",
   "execution_count": 9,
   "id": "9abc95ce-86d2-411c-a424-0ca2aad2c291",
   "metadata": {},
   "outputs": [
    {
     "data": {
      "text/plain": [
       "3.3333333333333335"
      ]
     },
     "execution_count": 9,
     "metadata": {},
     "output_type": "execute_result"
    }
   ],
   "source": [
    "(200/60)"
   ]
  },
  {
   "cell_type": "markdown",
   "id": "b905919a-8558-4d96-863e-695ad000fafc",
   "metadata": {},
   "source": [
    "## Author\n",
    "Kholoud Bittar"
   ]
  },
  {
   "cell_type": "code",
   "execution_count": null,
   "id": "a74b4e10-f747-4e97-812f-fc1a304ca3fb",
   "metadata": {},
   "outputs": [],
   "source": []
  }
 ],
 "metadata": {
  "kernelspec": {
   "display_name": "Python 3 (ipykernel)",
   "language": "python",
   "name": "python3"
  },
  "language_info": {
   "codemirror_mode": {
    "name": "ipython",
    "version": 3
   },
   "file_extension": ".py",
   "mimetype": "text/x-python",
   "name": "python",
   "nbconvert_exporter": "python",
   "pygments_lexer": "ipython3",
   "version": "3.11.7"
  }
 },
 "nbformat": 4,
 "nbformat_minor": 5
}
