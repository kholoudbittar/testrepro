{
 "cells": [
  {
   "cell_type": "markdown",
   "id": "9de4fd10-b990-450d-b5d9-e314cbd426db",
   "metadata": {},
   "source": [
    "# Data Science Tools and Ecosystem"
   ]
  },
  {
   "cell_type": "markdown",
   "id": "d881beb3-46f2-484b-8e70-e46146e7e76c",
   "metadata": {},
   "source": [
    "In this notebook, Data Science Tools and Ecosystem are summarized."
   ]
  },
  {
   "cell_type": "markdown",
   "id": "b870cf45-e948-4150-9880-9e060082e629",
   "metadata": {},
   "source": [
    "# Objectives:\n",
    "In this notebook we are covering the popular Data Science Languages, Libraries and tools, with some adding, multiplying and dividing examples."
   ]
  },
  {
   "cell_type": "markdown",
   "id": "86ad4413-3844-4bfc-a6ac-e0016915dfdb",
   "metadata": {},
   "source": [
    "Some of the popular Languages in Data Scientists use are:\n",
    "1. Python\n",
    "2. SQL\n",
    "3. R\n",
    "4. Javascript"
   ]
  },
  {
   "cell_type": "markdown",
   "id": "17113953-da96-44b8-b103-60250627f94a",
   "metadata": {},
   "source": [
    "Some of the commanly used Librairies used by Data Scientists include:\n",
    "1. Matplotib\n",
    "2. Pandas\n",
    "3. Numpy\n"
   ]
  },
  {
   "cell_type": "markdown",
   "id": "86da2d94-be3f-4212-b53c-3d07f54d52a9",
   "metadata": {},
   "source": [
    "|Data science Tools|\n",
    "|-----|\n",
    "|Python|\n",
    "|Jupiter Notebook|\n",
    "|TensorFlow|"
   ]
  },
  {
   "cell_type": "markdown",
   "id": "e647a798-26b3-47e8-8f23-fbb5f06c33d8",
   "metadata": {},
   "source": [
    "### Below are a few examples of Evaluating arithmetic expressions in Python"
   ]
  },
  {
   "cell_type": "markdown",
   "id": "8d052995-c03f-4d0d-840e-90ee279d98f9",
   "metadata": {},
   "source": [
    "this is a simple arithmetic expression to multiply then add integers"
   ]
  },
  {
   "cell_type": "code",
   "execution_count": 4,
   "id": "592d7fbe-fd1d-41c3-957c-8e851d160566",
   "metadata": {},
   "outputs": [
    {
     "data": {
      "text/plain": [
       "17"
      ]
     },
     "execution_count": 4,
     "metadata": {},
     "output_type": "execute_result"
    }
   ],
   "source": [
    "(3*4)+5"
   ]
  },
  {
   "cell_type": "markdown",
   "id": "353340ed-2599-42e8-8f38-0425d09eaabe",
   "metadata": {},
   "source": []
  },
  {
   "cell_type": "raw",
   "id": "39e992fe-7762-4f5b-af43-a5598595b657",
   "metadata": {},
   "source": [
    "This will convert 200 minutes to hours by dividing by 60"
   ]
  },
  {
   "cell_type": "code",
   "execution_count": 6,
   "id": "2f23910e-7f6b-4646-b387-e83c42032a04",
   "metadata": {},
   "outputs": [
    {
     "data": {
      "text/plain": [
       "3.3333333333333335"
      ]
     },
     "execution_count": 6,
     "metadata": {},
     "output_type": "execute_result"
    }
   ],
   "source": [
    "200/60"
   ]
  },
  {
   "cell_type": "markdown",
   "id": "fc9bf20c-4d4c-43b7-add2-3b97e9e85f88",
   "metadata": {},
   "source": [
    "## Author\n",
    "Kholoud Bittar"
   ]
  },
  {
   "cell_type": "markdown",
   "id": "faf4f363-8ee1-4310-88bb-7b9c1281bcf6",
   "metadata": {},
   "source": []
  }
 ],
 "metadata": {
  "kernelspec": {
   "display_name": "Python 3 (ipykernel)",
   "language": "python",
   "name": "python3"
  },
  "language_info": {
   "codemirror_mode": {
    "name": "ipython",
    "version": 3
   },
   "file_extension": ".py",
   "mimetype": "text/x-python",
   "name": "python",
   "nbconvert_exporter": "python",
   "pygments_lexer": "ipython3",
   "version": "3.11.7"
  }
 },
 "nbformat": 4,
 "nbformat_minor": 5
}
